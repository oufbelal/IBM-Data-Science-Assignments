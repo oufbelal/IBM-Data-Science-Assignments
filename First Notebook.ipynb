{
    "cells": [
        {
            "cell_type": "markdown",
            "metadata": {
                "collapsed": true
            },
            "source": "# My Jupyter Notebook on IBM Data Science Experience"
        },
        {
            "cell_type": "markdown",
            "metadata": {},
            "source": "**Raunak Bhutoria**  \nChemical Engineering Student"
        },
        {
            "cell_type": "markdown",
            "metadata": {},
            "source": "_I am interested in data science because I want to develop data analysis and data visualization skills as well as interpret data to gain various insights and predict future decisions_"
        },
        {
            "cell_type": "markdown",
            "metadata": {},
            "source": "The code below is supposed to print \"Hello World\"."
        },
        {
            "cell_type": "code",
            "execution_count": 3,
            "metadata": {},
            "outputs": [
                {
                    "name": "stdout",
                    "output_type": "stream",
                    "text": "Hello World\n"
                }
            ],
            "source": "print(\"Hello World\")"
        },
        {
            "cell_type": "markdown",
            "metadata": {},
            "source": "**Horizontal Rule:**\n\nHi everyone!\n\n---\n\nHope you all are doing well!\n\n***\n\nAll the best for the course!\n\n**Hyperlink:**\n\nhttps://en.wikipedia.org/wiki/Data_science\n\n**Image:**\n\n![alt text](https://github.com/adam-p/markdown-here/raw/master/src/common/images/icon48.png)"
        },
        {
            "cell_type": "code",
            "execution_count": null,
            "metadata": {},
            "outputs": [],
            "source": ""
        }
    ],
    "metadata": {
        "kernelspec": {
            "display_name": "Python 3.6 with Spark",
            "language": "python3",
            "name": "python36"
        },
        "language_info": {
            "codemirror_mode": {
                "name": "ipython",
                "version": 3
            },
            "file_extension": ".py",
            "mimetype": "text/x-python",
            "name": "python",
            "nbconvert_exporter": "python",
            "pygments_lexer": "ipython3",
            "version": "3.6.8"
        }
    },
    "nbformat": 4,
    "nbformat_minor": 1
}